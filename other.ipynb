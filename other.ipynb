{
 "cells": [
  {
   "cell_type": "code",
   "execution_count": 2,
   "metadata": {},
   "outputs": [
    {
     "name": "stdout",
     "output_type": "stream",
     "text": [
      "Number of parameters: 9.76M\n"
     ]
    }
   ],
   "source": [
    "import models\n",
    "import numpy as np\n",
    "import yaml\n",
    "\n",
    "def get_number_of_parameters(yaml_file):\n",
    "    with open(yaml_file, 'r') as f:\n",
    "        config = yaml.safe_load(f)\n",
    "    model = models.create_model(\n",
    "            config['network']['name'],\n",
    "            **config['network']['params']\n",
    "        )\n",
    "    parameters_n = 0\n",
    "    for parameter in model.parameters():\n",
    "        parameters_n += np.prod(parameter.shape).item()\n",
    "\n",
    "    return parameters_n\n",
    "\n",
    "\n",
    "config_file = \"/home/blimber/homework/DATA130011-PJ2/runs/20250530_024449/config.yaml\"\n",
    "\n",
    "param_num = get_number_of_parameters(config_file)\n",
    "print(f\"Number of parameters: {param_num/1e6:.2f}M\")"
   ]
  }
 ],
 "metadata": {
  "kernelspec": {
   "display_name": "RL",
   "language": "python",
   "name": "python3"
  },
  "language_info": {
   "codemirror_mode": {
    "name": "ipython",
    "version": 3
   },
   "file_extension": ".py",
   "mimetype": "text/x-python",
   "name": "python",
   "nbconvert_exporter": "python",
   "pygments_lexer": "ipython3",
   "version": "3.10.16"
  }
 },
 "nbformat": 4,
 "nbformat_minor": 2
}
